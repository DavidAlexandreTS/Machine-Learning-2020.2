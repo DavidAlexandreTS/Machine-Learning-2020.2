{
  "nbformat": 4,
  "nbformat_minor": 0,
  "metadata": {
    "colab": {
      "name": "Machine_Learning_Clustering",
      "provenance": [],
      "collapsed_sections": [],
      "authorship_tag": "ABX9TyMCRyA1cOB+euTjhSFbhcL7",
      "include_colab_link": true
    },
    "kernelspec": {
      "name": "python3",
      "display_name": "Python 3"
    },
    "language_info": {
      "name": "python"
    }
  },
  "cells": [
    {
      "cell_type": "markdown",
      "metadata": {
        "id": "view-in-github",
        "colab_type": "text"
      },
      "source": [
        "<a href=\"https://colab.research.google.com/github/DavidAlexandreTS/Machine-Learning-2020.2/blob/main/Machine_Learning_Clustering.ipynb\" target=\"_parent\"><img src=\"https://colab.research.google.com/assets/colab-badge.svg\" alt=\"Open In Colab\"/></a>"
      ]
    },
    {
      "cell_type": "code",
      "metadata": {
        "id": "zbyJFLrebsn9"
      },
      "source": [
        "import pandas as pd\n",
        "import numpy as np\n",
        "import random as rd\n",
        "import matplotlib.pyplot as plt\n",
        "import xlrd\n",
        "import seaborn as sns\n",
        "from sklearn.cluster import KMeans"
      ],
      "execution_count": 127,
      "outputs": []
    },
    {
      "cell_type": "code",
      "metadata": {
        "id": "h1boswGGt1mb"
      },
      "source": [
        "np.set_printoptions(threshold=sys.maxsize)\n",
        "\n",
        "ind = \"ID\"\n",
        "features = [\"AL\", \"ACD\", \"WTW\", \"K1\", \"K2\"]\n",
        "\n",
        "data_frame = pd.read_excel(\"/content/barrettII_eyes_clustering.xlsx\", index_col = ind)\n",
        "\n",
        "X_cl = data_frame[features]\n",
        "\n",
        "Y_cl = data_frame[\"Correto\"]\n",
        "\n",
        "X_cl = X_cl.astype(np.dtype('float64'))"
      ],
      "execution_count": 128,
      "outputs": []
    },
    {
      "cell_type": "code",
      "metadata": {
        "id": "OqMyOo6rcthz"
      },
      "source": [
        "k_means = KMeans(n_clusters = 8, random_state = 0).fit(X_cl[features])"
      ],
      "execution_count": 129,
      "outputs": []
    },
    {
      "cell_type": "code",
      "metadata": {
        "id": "0sQvuKwXvVO-"
      },
      "source": [
        "groups = k_means.labels_"
      ],
      "execution_count": 130,
      "outputs": []
    },
    {
      "cell_type": "code",
      "metadata": {
        "colab": {
          "base_uri": "https://localhost:8080/"
        },
        "id": "jBjTA0Cx_8Qx",
        "outputId": "a3e6b1b0-8419-4fd4-91b1-ee9fc85161b1"
      },
      "source": [
        "# Show the centroids of the groups\n",
        "for i in range(0, 8):\n",
        "  print(\"Centroid of the Group\", i + 1, \":\")\n",
        "  print(kmeans.cluster_centers_[i])\n",
        "  print()"
      ],
      "execution_count": 131,
      "outputs": [
        {
          "output_type": "stream",
          "name": "stdout",
          "text": [
            "Centroid of the Group 1 :\n",
            "[24.13130952  3.39869048 12.02083333 43.9752381  44.9452381 ]\n",
            "\n",
            "Centroid of the Group 2 :\n",
            "[23.52092664  3.0142471  12.05907336 42.20540541 43.00405405]\n",
            "\n",
            "Centroid of the Group 3 :\n",
            "[22.62903537  2.98366559 11.76672026 44.84096463 45.76961415]\n",
            "\n",
            "Centroid of the Group 4 :\n",
            "[22.35638298  3.03900709 11.6106383  46.40177305 47.52553191]\n",
            "\n",
            "Centroid of the Group 5 :\n",
            "[24.974       3.49909677 12.26258065 42.62980645 43.49058065]\n",
            "\n",
            "Centroid of the Group 6 :\n",
            "[27.90125  3.31625 12.3125  34.36125 36.67625]\n",
            "\n",
            "Centroid of the Group 7 :\n",
            "[23.08819767  2.95938953 11.96075581 43.45462209 44.26895349]\n",
            "\n",
            "Centroid of the Group 8 :\n",
            "[24.75373239  3.18359155 12.28802817 40.72387324 41.62450704]\n",
            "\n"
          ]
        }
      ]
    },
    {
      "cell_type": "code",
      "metadata": {
        "id": "eZA6xg2qyBQC"
      },
      "source": [
        "X_cl[\"Group ID\"] = groups\n",
        "X_cl[\"Correto\"] = Y_cl"
      ],
      "execution_count": 132,
      "outputs": []
    },
    {
      "cell_type": "code",
      "metadata": {
        "id": "H3iTNgIx2hvM"
      },
      "source": [
        "groups_profile = []\n",
        "groups_percent = []"
      ],
      "execution_count": 133,
      "outputs": []
    },
    {
      "cell_type": "code",
      "metadata": {
        "id": "O5Umgubr3FTu"
      },
      "source": [
        "for i in range(0, 8):\n",
        "  G = X_cl.loc[X_cl['Group ID'] == i]\n",
        "  tt_G = G['Correto'].value_counts()/G['Correto'].count()*100\n",
        "  qtd_SG = tt_G[\"S\"]\n",
        "  qtd_NG = tt_G[\"N\"]\n",
        "  groups_profile.append(G)\n",
        "  groups_percent.append(qtd_SG)"
      ],
      "execution_count": 134,
      "outputs": []
    },
    {
      "cell_type": "code",
      "metadata": {
        "colab": {
          "base_uri": "https://localhost:8080/"
        },
        "id": "rK5cWGx39-XE",
        "outputId": "00622c5f-847b-4f14-ed0a-baec75d478d5"
      },
      "source": [
        "# Display group profiles\n",
        "for i in range(0, 8):\n",
        "  print(\"         ****** The Group\",i + 1,\"have\", groups_profile[i].shape[0],\"members ******\")\n",
        "  print(\"-------- Information from individuals in Group\", i + 1, \"--------\")\n",
        "  print(groups_profile[i])\n",
        "  print()\n",
        "  print()"
      ],
      "execution_count": 145,
      "outputs": [
        {
          "output_type": "stream",
          "name": "stdout",
          "text": [
            "         ****** The Group 1 have 166 members ******\n",
            "-------- Information from individuals in Group 1 --------\n",
            "         AL   ACD   WTW     K1     K2  Group ID Correto\n",
            "ID                                                     \n",
            "6     23.73  2.87  12.0  43.21  45.12         0       S\n",
            "19    24.08  3.21  12.0  43.44  44.76         0       S\n",
            "26    23.63  2.85  11.5  42.99  45.42         0       S\n",
            "30    23.60  3.60  11.9  43.32  45.42         0       N\n",
            "34    23.86  3.71  12.3  43.83  45.00         0       S\n",
            "...     ...   ...   ...    ...    ...       ...     ...\n",
            "1471  24.13  3.66  12.0  43.89  44.06         0       N\n",
            "1474  23.38  3.12  11.8  44.18  45.18         0       S\n",
            "1479  24.02  3.20  12.1  43.60  44.06         0       S\n",
            "1494  24.88  2.58  11.4  43.95  44.82         0       N\n",
            "1527  23.99  3.09  11.8  44.70  45.30         0       N\n",
            "\n",
            "[166 rows x 7 columns]\n",
            "\n",
            "\n",
            "         ****** The Group 2 have 259 members ******\n",
            "-------- Information from individuals in Group 2 --------\n",
            "         AL   ACD   WTW     K1     K2  Group ID Correto\n",
            "ID                                                     \n",
            "3     24.04  2.96  12.0  42.35  42.83         1       S\n",
            "8     23.13  2.83  11.7  41.62  42.83         1       S\n",
            "15    23.39  2.90  11.9  42.24  43.60         1       S\n",
            "29    24.19  3.54  12.7  42.19  42.67         1       S\n",
            "79    24.61  2.95  12.7  42.08  42.24         1       S\n",
            "...     ...   ...   ...    ...    ...       ...     ...\n",
            "1497  24.54  2.80  11.9  41.82  42.24         1       S\n",
            "1501  23.93  3.04  12.3  42.88  43.49         1       N\n",
            "1513  24.61  2.92  11.6  42.13  42.45         1       S\n",
            "1515  23.19  3.41  12.4  41.98  42.88         1       S\n",
            "1524  23.59  3.19  13.0  42.72  43.60         1       N\n",
            "\n",
            "[259 rows x 7 columns]\n",
            "\n",
            "\n",
            "         ****** The Group 3 have 311 members ******\n",
            "-------- Information from individuals in Group 3 --------\n",
            "         AL   ACD   WTW     K1     K2  Group ID Correto\n",
            "ID                                                     \n",
            "9     22.76  2.96  12.2  45.49  46.36         2       N\n",
            "12    22.94  3.35  12.2  44.64  45.18         2       N\n",
            "13    22.96  3.33  12.4  45.24  46.62         2       S\n",
            "14    23.01  4.89  12.5  45.30  46.68         2       N\n",
            "20    23.67  2.77  12.1  44.53  45.73         2       S\n",
            "...     ...   ...   ...    ...    ...       ...     ...\n",
            "1505  22.09  2.48  11.0  44.47  45.30         2       N\n",
            "1506  22.34  2.54  11.9  45.00  46.04         2       N\n",
            "1510  22.55  2.88  11.6  45.55  46.30         2       N\n",
            "1511  23.24  2.19  11.8  44.58  45.92         2       S\n",
            "1514  22.88  3.52  11.7  45.00  45.92         2       S\n",
            "\n",
            "[311 rows x 7 columns]\n",
            "\n",
            "\n",
            "         ****** The Group 4 have 141 members ******\n",
            "-------- Information from individuals in Group 4 --------\n",
            "         AL   ACD   WTW     K1     K2  Group ID Correto\n",
            "ID                                                     \n",
            "5     23.08  3.51  12.5  45.55  48.28         3       S\n",
            "28    21.44  2.90  11.6  46.36  47.20         3       S\n",
            "43    24.06  3.01  11.8  46.36  47.87         3       S\n",
            "53    22.87  2.87  11.7  46.17  47.27         3       N\n",
            "65    24.76  3.78  11.8  45.30  47.67         3       S\n",
            "...     ...   ...   ...    ...    ...       ...     ...\n",
            "1415  22.53  2.88  11.9  45.79  46.87         3       N\n",
            "1427  22.57  3.29  11.9  45.98  46.42         3       S\n",
            "1431  21.78  2.62  11.3  46.81  47.67         3       S\n",
            "1443  21.19  2.98  11.6  46.49  47.74         3       N\n",
            "1467  22.10  2.67  11.4  45.55  46.94         3       S\n",
            "\n",
            "[141 rows x 7 columns]\n",
            "\n",
            "\n",
            "         ****** The Group 5 have 155 members ******\n",
            "-------- Information from individuals in Group 5 --------\n",
            "         AL   ACD   WTW     K1     K2  Group ID Correto\n",
            "ID                                                     \n",
            "1     24.60  3.39  12.3  42.03  43.95         4       S\n",
            "2     24.59  3.51  12.3  42.83  43.05         4       S\n",
            "16    24.63  3.23  12.1  42.45  42.78         4       S\n",
            "18    24.28  3.21  12.0  42.67  43.10         4       N\n",
            "22    24.72  3.42  12.0  42.67  43.38         4       N\n",
            "...     ...   ...   ...    ...    ...       ...     ...\n",
            "1507  24.25  3.20  12.1  42.99  43.44         4       S\n",
            "1508  23.94  3.53  12.4  42.94  43.49         4       N\n",
            "1512  24.84  3.35  12.1  41.98  43.38         4       N\n",
            "1525  26.18  3.83  12.1  43.44  44.18         4       S\n",
            "1526  24.09  2.77  12.6  42.83  43.72         4       S\n",
            "\n",
            "[155 rows x 7 columns]\n",
            "\n",
            "\n",
            "         ****** The Group 6 have 8 members ******\n",
            "-------- Information from individuals in Group 6 --------\n",
            "        AL   ACD   WTW     K1     K2  Group ID Correto\n",
            "ID                                                    \n",
            "90   25.46  2.81  11.6  31.90  33.95         5       N\n",
            "144  28.61  3.67  12.3  30.93  39.47         5       N\n",
            "224  24.49  3.18  12.2  37.09  37.63         5       N\n",
            "243  30.83  3.76  12.6  36.40  36.90         5       N\n",
            "628  24.85  3.11  12.0  30.96  35.64         5       S\n",
            "662  30.96  2.84  12.0  34.70  35.50         5       N\n",
            "667  28.22  3.35  12.5  37.71  38.27         5       N\n",
            "916  29.79  3.81  13.3  35.20  36.05         5       S\n",
            "\n",
            "\n",
            "         ****** The Group 7 have 346 members ******\n",
            "-------- Information from individuals in Group 7 --------\n",
            "         AL   ACD   WTW     K1     K2  Group ID Correto\n",
            "ID                                                     \n",
            "0     23.79  3.32  12.0  43.60  44.29         6       S\n",
            "11    22.29  2.97  11.9  41.82  44.76         6       S\n",
            "24    23.49  3.08  12.2  44.00  44.23         6       S\n",
            "25    23.27  3.19  12.4  43.27  43.77         6       S\n",
            "33    23.72  2.81  12.2  43.49  43.89         6       S\n",
            "...     ...   ...   ...    ...    ...       ...     ...\n",
            "1499  22.86  2.73  12.0  43.44  43.66         6       N\n",
            "1503  22.95  3.15  12.3  43.77  44.35         6       S\n",
            "1509  23.20  3.23  12.4  43.72  44.18         6       S\n",
            "1519  23.30  2.75  11.6  42.88  43.60         6       N\n",
            "1523  23.32  3.29  12.5  43.16  43.95         6       S\n",
            "\n",
            "[346 rows x 7 columns]\n",
            "\n",
            "\n",
            "         ****** The Group 8 have 142 members ******\n",
            "-------- Information from individuals in Group 8 --------\n",
            "         AL   ACD   WTW     K1     K2  Group ID Correto\n",
            "ID                                                     \n",
            "4     24.80  2.44  12.2  41.01  41.67         7       S\n",
            "7     24.16  3.31  12.4  39.85  41.11         7       S\n",
            "10    25.00  3.51  12.7  39.52  40.08         7       S\n",
            "17    24.72  2.72  12.3  41.77  42.24         7       N\n",
            "31    24.68  3.57  11.9  40.76  41.51         7       S\n",
            "...     ...   ...   ...    ...    ...       ...     ...\n",
            "1517  24.14  3.05  12.3  41.41  42.24         7       N\n",
            "1518  24.21  3.25  12.5  40.76  41.93         7       S\n",
            "1520  24.11  3.29  12.6  41.01  41.41         7       S\n",
            "1521  26.05  3.04  12.6  40.60  41.16         7       N\n",
            "1522  27.77  3.75  12.6  41.31  42.08         7       N\n",
            "\n",
            "[142 rows x 7 columns]\n",
            "\n",
            "\n"
          ]
        }
      ]
    },
    {
      "cell_type": "code",
      "metadata": {
        "colab": {
          "base_uri": "https://localhost:8080/"
        },
        "id": "t8KCzLb82iS6",
        "outputId": "ebcaf2f1-ef8f-4011-aa7e-ab22ff3e28d0"
      },
      "source": [
        "for i in range(0, 8):\n",
        "  print(\"Data for the Group\", i + 1)\n",
        "  print(\"The frequency of YES is approximately:\", round(groups_percent[i]),\"%\")\n",
        "  print(\"The frequency of NO is approximately:\", 100 - round(groups_percent[i]),\"%\")\n",
        "  print()"
      ],
      "execution_count": 146,
      "outputs": [
        {
          "output_type": "stream",
          "name": "stdout",
          "text": [
            "Data for the Group 1\n",
            "The frequency of YES is approximately: 67 %\n",
            "The frequency of NO is approximately: 33 %\n",
            "\n",
            "Data for the Group 2\n",
            "The frequency of YES is approximately: 71 %\n",
            "The frequency of NO is approximately: 29 %\n",
            "\n",
            "Data for the Group 3\n",
            "The frequency of YES is approximately: 72 %\n",
            "The frequency of NO is approximately: 28 %\n",
            "\n",
            "Data for the Group 4\n",
            "The frequency of YES is approximately: 60 %\n",
            "The frequency of NO is approximately: 40 %\n",
            "\n",
            "Data for the Group 5\n",
            "The frequency of YES is approximately: 74 %\n",
            "The frequency of NO is approximately: 26 %\n",
            "\n",
            "Data for the Group 6\n",
            "The frequency of YES is approximately: 25 %\n",
            "The frequency of NO is approximately: 75 %\n",
            "\n",
            "Data for the Group 7\n",
            "The frequency of YES is approximately: 75 %\n",
            "The frequency of NO is approximately: 25 %\n",
            "\n",
            "Data for the Group 8\n",
            "The frequency of YES is approximately: 71 %\n",
            "The frequency of NO is approximately: 29 %\n",
            "\n"
          ]
        }
      ]
    }
  ]
}