{
  "nbformat": 4,
  "nbformat_minor": 0,
  "metadata": {
    "colab": {
      "name": "ML_Exercicio_3.ipynb",
      "provenance": [],
      "collapsed_sections": [],
      "authorship_tag": "ABX9TyMV4/vN+SJYxYKtFPZoJjyG",
      "include_colab_link": true
    },
    "kernelspec": {
      "name": "python3",
      "display_name": "Python 3"
    },
    "language_info": {
      "name": "python"
    }
  },
  "cells": [
    {
      "cell_type": "markdown",
      "metadata": {
        "id": "view-in-github",
        "colab_type": "text"
      },
      "source": [
        "<a href=\"https://colab.research.google.com/github/DavidAlexandreTS/Machine-Learning-2020.2/blob/main/ML_Exercicio_3.ipynb\" target=\"_parent\"><img src=\"https://colab.research.google.com/assets/colab-badge.svg\" alt=\"Open In Colab\"/></a>"
      ]
    },
    {
      "cell_type": "code",
      "metadata": {
        "id": "F4TCd6DYDFWr"
      },
      "source": [
        "import numpy as np\n",
        "import math\n",
        "import random\n",
        "import sys\n",
        "import xlrd\n",
        "import pandas as pd\n",
        "from mlxtend.frequent_patterns import apriori, association_rules"
      ],
      "execution_count": 98,
      "outputs": []
    },
    {
      "cell_type": "code",
      "metadata": {
        "id": "WCZiZ4hGrxWa"
      },
      "source": [
        "cont_S = 0;\n",
        "cont_N = 0;"
      ],
      "execution_count": 175,
      "outputs": []
    },
    {
      "cell_type": "code",
      "metadata": {
        "id": "SEyvdtX_DssS"
      },
      "source": [
        "# Loading the Data\n",
        "data = pd.read_excel('/barrettII_eyes_clustering.xlsx')\n",
        "data.head()"
      ],
      "execution_count": null,
      "outputs": []
    },
    {
      "cell_type": "code",
      "metadata": {
        "id": "FRjdVcS39x1A"
      },
      "source": [
        "# Get the location of file\n",
        "plan = (\"/barrettII_eyes_clustering.xlsx\")\n",
        " \n",
        "# To open the Workbook\n",
        "wb = xlrd.open_workbook(plan)\n",
        "sheet = wb.sheet_by_index(0)\n",
        " \n",
        "# For row 0 and column 0\n",
        "table = []\n",
        "table_aux = []\n",
        "\n",
        "\n",
        "i = 1;\n",
        "for i in range(1, 1529):#pega 1, 2, 3 e 4\n",
        "  aux = []\n",
        "  #print(\"Eu sou o i:\", i)\n",
        "  j = 1\n",
        "  while(j <= 5):\n",
        "    aux.append(sheet.cell_value(i, j))\n",
        "    #print(sheet.cell_value(i, j))\n",
        "    j = j + 1\n",
        "\n",
        "  table_aux.append(sheet.cell_value(i, j))\n",
        "  table.append(aux)\n",
        "  \n",
        "  \n",
        "#print(table_aux)\n"
      ],
      "execution_count": 169,
      "outputs": []
    },
    {
      "cell_type": "code",
      "metadata": {
        "id": "jAPx3jUUJZ9p"
      },
      "source": [
        "def UpdateMean(n, mean, item):\n",
        "    for i in range(len(mean)):\n",
        "        m = mean[i];\n",
        "        m = (m*(n-1)+item[i])/float(n);\n",
        "        mean[i] = round(m, 3);\n",
        "      \n",
        "    return mean;"
      ],
      "execution_count": 166,
      "outputs": []
    },
    {
      "cell_type": "code",
      "metadata": {
        "id": "4iveq274f9Mg"
      },
      "source": [
        "def EuclideanDistance(x, y): \n",
        "    S = 0; # The sum of the squared differences of the elements \n",
        "    for i in range(len(x)): \n",
        "        S += math.pow(x[i]-y[i], 2)\n",
        "  \n",
        "    #The square root of the sum\n",
        "    return math.sqrt(S)"
      ],
      "execution_count": 142,
      "outputs": []
    },
    {
      "cell_type": "code",
      "metadata": {
        "id": "iGixXgzHSJB7"
      },
      "source": [
        "def Classify(means,item):\n",
        "  \n",
        "    # Classify item to the mean with minimum distance    \n",
        "    minimum = sys.maxsize;\n",
        "    index = -1;\n",
        "  \n",
        "    for i in range(len(means)):\n",
        "  \n",
        "        # Find distance from item to mean\n",
        "        dis = EuclideanDistance(item, means[i]);\n",
        "  \n",
        "        if (dis < minimum):\n",
        "            minimum = dis;\n",
        "            index = i;\n",
        "      \n",
        "    return index;"
      ],
      "execution_count": 111,
      "outputs": []
    },
    {
      "cell_type": "code",
      "metadata": {
        "id": "TxCG2bWSW3mE"
      },
      "source": [
        "def StartMeans(items, k, cMin, cMax):\n",
        "  \n",
        "    # Initialize means to random numbers between the min and max of each column\n",
        "\n",
        "    f = len(items[0]); # number of features\n",
        "    \n",
        "    means = [[0 for i in range(f)] for j in range(k)];\n",
        "      \n",
        "    for mean in means:\n",
        "        for i in range(len(mean)):\n",
        "  \n",
        "            # Set value to a random float(adding +-1 to avoid a wide placement of a mean)\n",
        "            mean[i] = random.uniform(cMin[i] + 1, cMax[i] - 1);\n",
        "  \n",
        "    return means;"
      ],
      "execution_count": 144,
      "outputs": []
    },
    {
      "cell_type": "code",
      "metadata": {
        "id": "2mT8GUa-ezU6"
      },
      "source": [
        "def GetMinandMax(items):\n",
        "  n = len(items[0]);\n",
        "  minima = [sys.maxsize for i in range(n)];\n",
        "  maxima = [-sys.maxsize -1 for i in range(n)];\n",
        "\t\n",
        "  for item in items:\n",
        "    for f in range(len(item)):\n",
        "      if (item[f] < minima[f]):\n",
        "        minima[f] = item[f];\n",
        "      \n",
        "      if (item[f] > maxima[f]):\n",
        "        maxima[f] = item[f];\n",
        "  \n",
        "  #Those variables are lists that contain itens with\n",
        "  #min and max values of all\n",
        "  return minima, maxima;"
      ],
      "execution_count": 140,
      "outputs": []
    },
    {
      "cell_type": "code",
      "metadata": {
        "id": "EU8UpI_oP_4t"
      },
      "source": [
        "def CalculateMeans(k, items, maxIterations=100000):\n",
        "\n",
        "\t# Find the min and max for columns\n",
        "\tcMin, cMax = GetMinandMax(items);\n",
        "\t\n",
        "\t# Initialize means at random points\n",
        "\tmeans = StartMeans(items, k, cMin, cMax);\n",
        "\t\n",
        "\t# Initialize clusters, the array to hold the number of items in a class\n",
        "\tcluSize= [0 for i in range(len(means))];\n",
        "\n",
        "\t# An array to hold the cluster an item is in\n",
        "\tbelongsTo = [0 for i in range(len(items))];\n",
        "\n",
        "\t# Calculate means\n",
        "\tfor e in range(maxIterations):\n",
        "\n",
        "\t\t# If no change of cluster occurs, halt\n",
        "\t\tnoChange = True;\n",
        "\t\tfor i in range(len(items)):\n",
        "\n",
        "\t\t\titem = items[i];\n",
        "\n",
        "\t\t\t# Classify item into a cluster and update the\n",
        "\t\t\t# corresponding means.\t\t\n",
        "\t\t\tindex = Classify(means,item);\n",
        "\n",
        "\t\t\tcluSize[index] += 1;\n",
        "\t\t\tcSize = cluSize[index];\n",
        "\t\t\tmeans[index] = UpdateMean(cSize,means[index],item);\n",
        "\n",
        "\t\t\t# Item changed cluster\n",
        "\t\t\tif(index != belongsTo[i]):\n",
        "\t\t\t\tnoChange = False;\n",
        "\n",
        "\t\t\tbelongsTo[i] = index;\n",
        "\n",
        "\t\t# Nothing changed, return\n",
        "\t\tif (noChange):\n",
        "\t\t\tbreak;\n",
        "\n",
        "\treturn means;"
      ],
      "execution_count": 141,
      "outputs": []
    },
    {
      "cell_type": "code",
      "metadata": {
        "id": "Os3uTdRJQFAK"
      },
      "source": [
        "def FindClusters(means, items):\n",
        "  # Init clusters\n",
        "\tclusters = [[] for i in range(len(means))]; \n",
        "\t\n",
        "\tfor item in items:\n",
        "\n",
        "\t\t# Classify item into a cluster\n",
        "\t\tindex = Classify(means,item);\n",
        "\n",
        "\t\t# Add item to cluster\n",
        "\t\tclusters[index].append(item);\n",
        "\n",
        "\treturn clusters;\n"
      ],
      "execution_count": 113,
      "outputs": []
    },
    {
      "cell_type": "code",
      "metadata": {
        "id": "LpJSt7KxQf1W"
      },
      "source": [
        "means = CalculateMeans(3, table)\n",
        "clusters = FindClusters(means, table)\n",
        "\n",
        "print(\"Decidi dividir em 2 grupos e os indivíduos por grupo estão dispostos abaixo\")\n",
        "for i in range (0, 2):\n",
        "  print()\n",
        "  print(\"Grupo\", i + 1,\": \")\n",
        "  c_aux = clusters[i]\n",
        "  si = len(c_aux)\n",
        "  k = 0\n",
        "  while(k < si ):\n",
        "    print(c_aux[k])\n",
        "    k = k + 1"
      ],
      "execution_count": null,
      "outputs": []
    },
    {
      "cell_type": "code",
      "metadata": {
        "colab": {
          "base_uri": "https://localhost:8080/"
        },
        "id": "TciyUA3WllSQ",
        "outputId": "439ad08b-afbf-47e7-da7b-da9b4d84c318"
      },
      "source": [
        "#print(clusters[0])\n",
        "#qtd = len(clusters)\n",
        "#print(qtd)\n",
        "#qtd2 = len(table)\n",
        "#qtd3 = len(table_aux)\n",
        "\n",
        "#print(table[0])\n",
        "#print(qtd2, qtd3)\n",
        "global cont_S\n",
        "global cont_N\n",
        "\n",
        "frequencia = []\n",
        "\n",
        "table_size = len(table)\n",
        "\n",
        "for i in range (0, 2):\n",
        "  c_aux = clusters[i]\n",
        "  si = len(c_aux)\n",
        "  k = 0\n",
        "  while(k < si ):\n",
        "    n = 0\n",
        "    while(n < table_size):\n",
        "      if table[n] == c_aux[k]:\n",
        "        if table_aux[n] == \"S\":\n",
        "          cont_S = cont_S + 1\n",
        "        else:\n",
        "          cont_N = cont_N + 1\n",
        "      n = n + 1\n",
        "\n",
        "    k = k + 1\n",
        "\n",
        "  frequencia.append(cont_S)\n",
        "  frequencia.append(cont_N)\n",
        "\n",
        "  cont_S = 0\n",
        "  cont_N = 0\n",
        "\n",
        "num1_aux = frequencia[0]\n",
        "num2_aux = frequencia[1]\n",
        "freq_SG1 = num1_aux/(num1_aux + num2_aux)\n",
        "freq_NG1 = num2_aux/(num2_aux + num1_aux)\n",
        "print(\"Frequencia para o Grupo 1:\")\n",
        "print(\"Frequencia de SIM: \", freq_SG1, \"e Frequencia de NAO: \", freq_NG1)\n",
        "\n",
        "num11_aux = frequencia[2]\n",
        "num22_aux = frequencia[3]\n",
        "freq_SG2 = num11_aux/(num11_aux + num22_aux)\n",
        "freq_NG2 = num22_aux/(num22_aux + num11_aux)\n",
        "print(\"Frequencia para o Grupo 2:\")\n",
        "print(\"Frequencia de SIM: \", freq_SG2, \"e Frequencia de NAO: \", freq_NG2)\n",
        "#print(frequencia)\n",
        "#print(num1_aux)"
      ],
      "execution_count": 198,
      "outputs": [
        {
          "output_type": "stream",
          "name": "stdout",
          "text": [
            "Frequencia para o Grupo 1:\n",
            "Frequencia de SIM:  0.7255172413793104 e Frequencia de NAO:  0.27448275862068966\n",
            "Frequencia para o Grupo 2:\n",
            "Frequencia de SIM:  0.6987341772151898 e Frequencia de NAO:  0.3012658227848101\n"
          ]
        }
      ]
    }
  ]
}